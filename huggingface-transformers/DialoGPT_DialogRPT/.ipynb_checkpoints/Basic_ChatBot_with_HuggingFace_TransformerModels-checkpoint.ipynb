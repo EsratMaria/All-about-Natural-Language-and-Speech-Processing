{
 "cells": [
  {
   "cell_type": "code",
   "execution_count": 1,
   "metadata": {},
   "outputs": [],
   "source": [
    "from transformers import AutoModelForCausalLM, AutoTokenizer\n",
    "import torch\n",
    "from typing import List\n",
    "import numpy as np"
   ]
  },
  {
   "cell_type": "code",
   "execution_count": 2,
   "metadata": {},
   "outputs": [],
   "source": [
    "tokenizer = AutoTokenizer.from_pretrained(\"microsoft/DialoGPT-large\")\n",
    "model = AutoModelForCausalLM.from_pretrained(\"microsoft/DialoGPT-large\")"
   ]
  },
  {
   "cell_type": "code",
   "execution_count": 3,
   "metadata": {},
   "outputs": [],
   "source": [
    "from transformers import AutoModelForSequenceClassification\n",
    "\n",
    "\n",
    "model_score = \"microsoft/DialogRPT-updown\"   \n",
    "tokenizer_rpt = AutoTokenizer.from_pretrained(model_score)\n",
    "model_rpt = AutoModelForSequenceClassification.from_pretrained(model_score)"
   ]
  },
  {
   "cell_type": "code",
   "execution_count": 4,
   "metadata": {},
   "outputs": [],
   "source": [
    "def get_candidates(user_input:str,\n",
    "                   context: List[str] = []) -> List[str]:\n",
    "    \"\"\"Your code here\"\"\"\n",
    "    \n",
    "    user_input = tokenizer.encode(user_input, tokenizer.eos_token, return_tensors='pt')\n",
    "    \n",
    "    beam_outputs = model.generate(\n",
    "        user_input, \n",
    "        max_length=60, \n",
    "        num_beams=5, \n",
    "        no_repeat_ngram_size=2, \n",
    "        num_return_sequences=5, \n",
    "        early_stopping=True\n",
    "    )\n",
    "    beam_output = []\n",
    "    for step in range(5):\n",
    "        m = format(tokenizer.decode(beam_outputs[:, user_input.shape[-1]:][step], skip_special_tokens=True))\n",
    "        beam_output.append(m)\n",
    "    \n",
    "    return beam_output, beam_outputs "
   ]
  },
  {
   "cell_type": "code",
   "execution_count": 5,
   "metadata": {},
   "outputs": [],
   "source": [
    "def get_scores(context:List[str],\n",
    "               user_input:str,\n",
    "               candidates: List[str]) -> List[float]:\n",
    "    \n",
    "    \"\"\"Your code here\"\"\"\n",
    "    \n",
    "    result = model_rpt(context, return_dict=True)\n",
    "    candidate_scores = torch.sigmoid(result.logits)\n",
    "\n",
    "    \n",
    "    return candidate_scores"
   ]
  },
  {
   "cell_type": "code",
   "execution_count": 6,
   "metadata": {},
   "outputs": [],
   "source": [
    "def chat():\n",
    "    #init the chat with 0 context\n",
    "    context = []\n",
    "    \n",
    "    while True:\n",
    "        \n",
    "        #get user input\n",
    "        user_input = input('user > ')\n",
    "        \n",
    "        candidates, output = get_candidates(user_input)\n",
    "#         print(candidates)\n",
    "#         print(output)\n",
    "        \n",
    "        scores = get_scores(output, user_input, candidates)\n",
    "        \n",
    "#         print(scores)\n",
    "        \n",
    "        response = candidates[torch.argmax(scores)]\n",
    "\n",
    "        print('Bot >', response)\n",
    "        \n",
    "        context.extend([user_input,response])\n",
    "        \n",
    "#         print(context) --> keeps track of all the past conversation history."
   ]
  },
  {
   "cell_type": "code",
   "execution_count": null,
   "metadata": {
    "scrolled": true
   },
   "outputs": [
    {
     "name": "stdout",
     "output_type": "stream",
     "text": [
      "user > hey, good morning!\n"
     ]
    },
    {
     "name": "stderr",
     "output_type": "stream",
     "text": [
      "Setting `pad_token_id` to `eos_token_id`:50256 for open-end generation.\n"
     ]
    },
    {
     "name": "stdout",
     "output_type": "stream",
     "text": [
      "Bot > Good morning\n",
      "user > hey, good day\n"
     ]
    },
    {
     "name": "stderr",
     "output_type": "stream",
     "text": [
      "Setting `pad_token_id` to `eos_token_id`:50256 for open-end generation.\n"
     ]
    },
    {
     "name": "stdout",
     "output_type": "stream",
     "text": [
      "Bot > Good day to you too!\n",
      "user > ok\n"
     ]
    },
    {
     "name": "stderr",
     "output_type": "stream",
     "text": [
      "Setting `pad_token_id` to `eos_token_id`:50256 for open-end generation.\n"
     ]
    },
    {
     "name": "stdout",
     "output_type": "stream",
     "text": [
      "Bot > Thanks for the trade. Enjoy!\n",
      "user > hey\n"
     ]
    },
    {
     "name": "stderr",
     "output_type": "stream",
     "text": [
      "Setting `pad_token_id` to `eos_token_id`:50256 for open-end generation.\n"
     ]
    },
    {
     "name": "stdout",
     "output_type": "stream",
     "text": [
      "Bot > Hiya!\n",
      "user > how are how?\n"
     ]
    },
    {
     "name": "stderr",
     "output_type": "stream",
     "text": [
      "Setting `pad_token_id` to `eos_token_id`:50256 for open-end generation.\n"
     ]
    },
    {
     "name": "stdout",
     "output_type": "stream",
     "text": [
      "Bot > How is what?\n",
      "user > hey\n"
     ]
    },
    {
     "name": "stderr",
     "output_type": "stream",
     "text": [
      "Setting `pad_token_id` to `eos_token_id`:50256 for open-end generation.\n"
     ]
    },
    {
     "name": "stdout",
     "output_type": "stream",
     "text": [
      "Bot > Hiya!\n",
      "user > good morning!\n"
     ]
    },
    {
     "name": "stderr",
     "output_type": "stream",
     "text": [
      "Setting `pad_token_id` to `eos_token_id`:50256 for open-end generation.\n"
     ]
    },
    {
     "name": "stdout",
     "output_type": "stream",
     "text": [
      "Bot > Good afternoon!\n",
      "user > what is your favorite thing to do?\n"
     ]
    },
    {
     "name": "stderr",
     "output_type": "stream",
     "text": [
      "Setting `pad_token_id` to `eos_token_id`:50256 for open-end generation.\n"
     ]
    },
    {
     "name": "stdout",
     "output_type": "stream",
     "text": [
      "Bot > I don't really have a favorite.\n",
      "user > heyy!\n"
     ]
    },
    {
     "name": "stderr",
     "output_type": "stream",
     "text": [
      "Setting `pad_token_id` to `eos_token_id`:50256 for open-end generation.\n"
     ]
    },
    {
     "name": "stdout",
     "output_type": "stream",
     "text": [
      "Bot > Heyyyyyy!\n",
      "user > Good morning\n"
     ]
    },
    {
     "name": "stderr",
     "output_type": "stream",
     "text": [
      "Setting `pad_token_id` to `eos_token_id`:50256 for open-end generation.\n"
     ]
    },
    {
     "name": "stdout",
     "output_type": "stream",
     "text": [
      "Bot > Good afternoon!\n",
      "user > what is your name?\n"
     ]
    },
    {
     "name": "stderr",
     "output_type": "stream",
     "text": [
      "Setting `pad_token_id` to `eos_token_id`:50256 for open-end generation.\n"
     ]
    },
    {
     "name": "stdout",
     "output_type": "stream",
     "text": [
      "Bot > I don't have a name.\n",
      "user > haha'\n"
     ]
    },
    {
     "name": "stderr",
     "output_type": "stream",
     "text": [
      "Setting `pad_token_id` to `eos_token_id`:50256 for open-end generation.\n"
     ]
    },
    {
     "name": "stdout",
     "output_type": "stream",
     "text": [
      "Bot > I know, right?\n"
     ]
    }
   ],
   "source": [
    "chat()"
   ]
  },
  {
   "cell_type": "code",
   "execution_count": null,
   "metadata": {},
   "outputs": [],
   "source": []
  }
 ],
 "metadata": {
  "kernelspec": {
   "display_name": "chat",
   "language": "python",
   "name": "chat"
  },
  "language_info": {
   "codemirror_mode": {
    "name": "ipython",
    "version": 3
   },
   "file_extension": ".py",
   "mimetype": "text/x-python",
   "name": "python",
   "nbconvert_exporter": "python",
   "pygments_lexer": "ipython3",
   "version": "3.8.8"
  }
 },
 "nbformat": 4,
 "nbformat_minor": 4
}
