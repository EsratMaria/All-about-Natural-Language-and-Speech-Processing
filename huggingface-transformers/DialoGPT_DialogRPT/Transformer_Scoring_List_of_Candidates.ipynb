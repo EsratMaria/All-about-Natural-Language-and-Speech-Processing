{
 "cells": [
  {
   "cell_type": "code",
   "execution_count": 84,
   "metadata": {},
   "outputs": [],
   "source": [
    "from transformers import AutoModelForCausalLM, AutoTokenizer\n",
    "from transformers import AutoModelForSequenceClassification\n",
    "import torch\n",
    "from typing import List\n",
    "import numpy as np"
   ]
  },
  {
   "cell_type": "code",
   "execution_count": 89,
   "metadata": {},
   "outputs": [],
   "source": [
    "context = [\"my favorite food is pasta\"]\n",
    "user_input = \"what's your favorite?\"\n",
    "candidates = [\"i like dancing\", \"i like music\", \"i like sandwiches\", \"i like to play badminton\"]"
   ]
  },
  {
   "cell_type": "code",
   "execution_count": 86,
   "metadata": {},
   "outputs": [],
   "source": [
    "# score: Dialog-RPT (Depth)\n",
    "model_score_depth = \"microsoft/DialogRPT-depth\"\n",
    "tokenizer_rpt_depth = AutoTokenizer.from_pretrained(model_score_depth)\n",
    "model_rpt_depth = AutoModelForSequenceClassification.from_pretrained(model_score_depth)"
   ]
  },
  {
   "cell_type": "code",
   "execution_count": 91,
   "metadata": {},
   "outputs": [],
   "source": [
    "model_input_rpt_depth = tokenizer_rpt_depth.batch_encode_plus(candidates, return_token_type_ids= False, return_attention_mask = False, return_tensors= \"pt\", return_special_tokens_mask= False, truncation=True,padding=True)"
   ]
  },
  {
   "cell_type": "code",
   "execution_count": 92,
   "metadata": {},
   "outputs": [
    {
     "data": {
      "text/plain": [
       "{'input_ids': tensor([[   72,   588, 15360, 50256, 50256, 50256, 50256],\n",
       "        [   72,   588,  2647, 50256, 50256, 50256, 50256],\n",
       "        [   72,   588, 29777, 50256, 50256, 50256, 50256],\n",
       "        [   72,   588,   284,   711,  2089,    76,  2371]])}"
      ]
     },
     "execution_count": 92,
     "metadata": {},
     "output_type": "execute_result"
    }
   ],
   "source": [
    "model_input_rpt_depth"
   ]
  },
  {
   "cell_type": "code",
   "execution_count": 93,
   "metadata": {},
   "outputs": [],
   "source": [
    "import torch"
   ]
  },
  {
   "cell_type": "code",
   "execution_count": 94,
   "metadata": {},
   "outputs": [],
   "source": [
    "result = torch.Tensor(model_input_rpt_depth['input_ids'].float())"
   ]
  },
  {
   "cell_type": "code",
   "execution_count": 95,
   "metadata": {},
   "outputs": [
    {
     "data": {
      "text/plain": [
       "tensor([[   72.,   588., 15360., 50256., 50256., 50256., 50256.],\n",
       "        [   72.,   588.,  2647., 50256., 50256., 50256., 50256.],\n",
       "        [   72.,   588., 29777., 50256., 50256., 50256., 50256.],\n",
       "        [   72.,   588.,   284.,   711.,  2089.,    76.,  2371.]])"
      ]
     },
     "execution_count": 95,
     "metadata": {},
     "output_type": "execute_result"
    }
   ],
   "source": [
    "result"
   ]
  },
  {
   "cell_type": "code",
   "execution_count": 96,
   "metadata": {},
   "outputs": [],
   "source": [
    "result =res.to(torch.int64)"
   ]
  },
  {
   "cell_type": "code",
   "execution_count": 97,
   "metadata": {},
   "outputs": [
    {
     "data": {
      "text/plain": [
       "tensor([[   72,   588, 15360],\n",
       "        [   72,   588,  2647],\n",
       "        [   72,   588, 29777]])"
      ]
     },
     "execution_count": 97,
     "metadata": {},
     "output_type": "execute_result"
    }
   ],
   "source": [
    "result"
   ]
  },
  {
   "cell_type": "code",
   "execution_count": 98,
   "metadata": {},
   "outputs": [],
   "source": [
    "new_val = model_rpt_depth(result, return_dict=True)"
   ]
  },
  {
   "cell_type": "code",
   "execution_count": 99,
   "metadata": {},
   "outputs": [],
   "source": [
    "candidate_scores = torch.sigmoid(new_val.logits)"
   ]
  },
  {
   "cell_type": "code",
   "execution_count": 100,
   "metadata": {},
   "outputs": [
    {
     "data": {
      "text/plain": [
       "tensor([[0.1734],\n",
       "        [0.2110],\n",
       "        [0.1900]], grad_fn=<SigmoidBackward>)"
      ]
     },
     "execution_count": 100,
     "metadata": {},
     "output_type": "execute_result"
    }
   ],
   "source": [
    "candidate_scores"
   ]
  },
  {
   "cell_type": "code",
   "execution_count": null,
   "metadata": {},
   "outputs": [],
   "source": []
  }
 ],
 "metadata": {
  "kernelspec": {
   "display_name": "chat",
   "language": "python",
   "name": "chat"
  },
  "language_info": {
   "codemirror_mode": {
    "name": "ipython",
    "version": 3
   },
   "file_extension": ".py",
   "mimetype": "text/x-python",
   "name": "python",
   "nbconvert_exporter": "python",
   "pygments_lexer": "ipython3",
   "version": "3.8.8"
  }
 },
 "nbformat": 4,
 "nbformat_minor": 4
}
