{
 "cells": [
  {
   "cell_type": "markdown",
   "metadata": {},
   "source": [
    "## Drawing Graph from a Tree using Networkx"
   ]
  },
  {
   "cell_type": "code",
   "execution_count": 3,
   "metadata": {},
   "outputs": [],
   "source": [
    "import warnings\n",
    "warnings.filterwarnings('ignore')"
   ]
  },
  {
   "cell_type": "code",
   "execution_count": 8,
   "metadata": {},
   "outputs": [],
   "source": [
    "import sys, os\n",
    "import pickle\n",
    "import pandas as pd\n",
    "import networkx as nx\n",
    "from nltk.util import breadth_first\n",
    "from nltk.tree import ParentedTree\n",
    "from networkx.drawing.nx_agraph import graphviz_layout\n",
    "from collections import deque\n",
    "\n",
    "from nltk.parse import stanford "
   ]
  },
  {
   "cell_type": "code",
   "execution_count": 7,
   "metadata": {},
   "outputs": [],
   "source": [
    "# after downloading the parser, define the path to the following jar folders:\n",
    "\n",
    "os.environ['STANFORD_PARSER'] = '/home/maria/stanford/stanford-parser-full-2018-10-17/stanford-parser.jar'\n",
    "os.environ['STANFORD_MODELS'] = '/home/maria/stanford/stanford-parser-full-2018-10-17/stanford-parser-3.9.2-models.jar'\n",
    "\n",
    "parser = stanford.StanfordParser(model_path=\"/home/maria/stanford/stanford-parser-full-2018-10-17/jars/stanford-parser-3.9.2-models/edu/stanford/nlp/models/lexparser/englishPCFG.ser.gz\")\n",
    "\n",
    "sentence_1 = \"hello, Good morning, how have you been?\"\n",
    "\n",
    "parse_tree = list(parser.raw_parse(sentence_1))[0]"
   ]
  },
  {
   "cell_type": "code",
   "execution_count": 9,
   "metadata": {},
   "outputs": [],
   "source": [
    "G = nx.DiGraph()\n",
    "G.add_node(0, pos_tag='ROOT')"
   ]
  },
  {
   "cell_type": "code",
   "execution_count": 10,
   "metadata": {},
   "outputs": [
    {
     "data": {
      "text/plain": [
       "{'pos_tag': 'ROOT'}"
      ]
     },
     "execution_count": 10,
     "metadata": {},
     "output_type": "execute_result"
    }
   ],
   "source": [
    "G.nodes[0]"
   ]
  },
  {
   "cell_type": "code",
   "execution_count": 12,
   "metadata": {},
   "outputs": [],
   "source": [
    "leaves = len(parse_tree.leaves())\n",
    "tsize = len(parse_tree.treepositions())\n",
    "idx = 0\n",
    "\n",
    "def breadth_first_wp(tree, children=iter, maxdepth=-1):\n",
    "    queue = deque([(tree, 0, None, -1)])\n",
    "    \n",
    "    nodeidx = -1\n",
    "    pnodeidx = -1\n",
    "    \n",
    "    while queue:\n",
    "        node, depth, pnode, pnodeidx = queue.popleft()\n",
    "        if not isinstance(node, str): #checking if node is a str type or not\n",
    "            nodeidx += 1 # if node is a str then increment\n",
    "        yield node, pnode, pnodeidx\n",
    "        if depth != maxdepth:\n",
    "            try:\n",
    "                pnodeidx = nodeidx\n",
    "                queue.extend((c, depth + 1, node, pnodeidx) for c in children(node))\n",
    "            except TypeError:\n",
    "                pass"
   ]
  },
  {
   "cell_type": "code",
   "execution_count": 13,
   "metadata": {},
   "outputs": [],
   "source": [
    "for node, pnode, pnodeidx in breadth_first_wp(parse_tree):\n",
    "    if not isinstance(node, str):\n",
    "        snode = node.label()\n",
    "        if pnode is not None:\n",
    "            # pnode = pnode.label()\n",
    "            # print(snode, idx, pnode.label(), pnodeidx)\n",
    "            G.add_edge(pnodeidx, idx)\n",
    "        G.add_node(idx, pos_tag=snode)\n",
    "        \n",
    "        if idx == tsize-leaves-1:\n",
    "            break\n",
    "        idx+=1"
   ]
  },
  {
   "cell_type": "code",
   "execution_count": 14,
   "metadata": {},
   "outputs": [
    {
     "data": {
      "image/png": "[encoded data removed]",
      "text/plain": [
       "<Figure size 432x288 with 1 Axes>"
      ]
     },
     "metadata": {},
     "output_type": "display_data"
    }
   ],
   "source": [
    "labels = nx.get_node_attributes(G, 'pos_tag')\n",
    "pos = graphviz_layout(G)\n",
    "nx.draw(G, pos, labels=labels)"
   ]
  },
  {
   "cell_type": "code",
   "execution_count": 15,
   "metadata": {},
   "outputs": [
    {
     "data": {
      "text/plain": [
       "<networkx.classes.digraph.DiGraph at 0x7f2397940be0>"
      ]
     },
     "execution_count": 15,
     "metadata": {},
     "output_type": "execute_result"
    }
   ],
   "source": [
    "G"
   ]
  }
 ],
 "metadata": {
  "kernelspec": {
   "display_name": "chat",
   "language": "python",
   "name": "chat"
  },
  "language_info": {
   "codemirror_mode": {
    "name": "ipython",
    "version": 3
   },
   "file_extension": ".py",
   "mimetype": "text/x-python",
   "name": "python",
   "nbconvert_exporter": "python",
   "pygments_lexer": "ipython3",
   "version": "3.8.8"
  }
 },
 "nbformat": 4,
 "nbformat_minor": 4
}
