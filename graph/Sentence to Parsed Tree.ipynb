{
 "cells": [
  {
   "cell_type": "code",
   "execution_count": 1,
   "metadata": {},
   "outputs": [],
   "source": [
    "import sys, os\n",
    "import pickle\n",
    "import pandas as pd\n",
    "import networkx as nx\n",
    "\n",
    "from nltk.parse import stanford \n",
    "\n",
    "import warnings\n",
    "warnings.filterwarnings('ignore')"
   ]
  },
  {
   "cell_type": "code",
   "execution_count": 2,
   "metadata": {},
   "outputs": [],
   "source": [
    "# after downloading the parser, define the path to the following jar folders:\n",
    "\n",
    "os.environ['STANFORD_PARSER'] = '/home/maria/stanford/stanford-parser-full-2018-10-17/stanford-parser.jar'\n",
    "os.environ['STANFORD_MODELS'] = '/home/maria/stanford/stanford-parser-full-2018-10-17/stanford-parser-3.9.2-models.jar'\n",
    "\n",
    "parser = stanford.StanfordParser(model_path=\"/home/maria/stanford/stanford-parser-full-2018-10-17/jars/stanford-parser-3.9.2-models/edu/stanford/nlp/models/lexparser/englishPCFG.ser.gz\")\n"
   ]
  },
  {
   "cell_type": "code",
   "execution_count": 3,
   "metadata": {},
   "outputs": [
    {
     "data": {
      "text/plain": [
       "<nltk.parse.stanford.StanfordParser at 0x7fcf60accf40>"
      ]
     },
     "execution_count": 3,
     "metadata": {},
     "output_type": "execute_result"
    }
   ],
   "source": [
    "parser"
   ]
  },
  {
   "cell_type": "code",
   "execution_count": 4,
   "metadata": {},
   "outputs": [
    {
     "data": {
      "text/plain": [
       "nltk.parse.stanford.StanfordParser"
      ]
     },
     "execution_count": 4,
     "metadata": {},
     "output_type": "execute_result"
    }
   ],
   "source": [
    "type(parser)"
   ]
  },
  {
   "cell_type": "code",
   "execution_count": 5,
   "metadata": {},
   "outputs": [],
   "source": [
    "sentence_1 = \"hello, Good morning, how have you been?\""
   ]
  },
  {
   "cell_type": "code",
   "execution_count": 6,
   "metadata": {},
   "outputs": [
    {
     "data": {
      "text/plain": [
       "'hello, Good morning, how have you been?'"
      ]
     },
     "execution_count": 6,
     "metadata": {},
     "output_type": "execute_result"
    }
   ],
   "source": [
    "sentence_1"
   ]
  },
  {
   "cell_type": "code",
   "execution_count": 7,
   "metadata": {},
   "outputs": [],
   "source": [
    "parse_tree = list(parser.raw_parse(sentence_1))[0]"
   ]
  },
  {
   "cell_type": "code",
   "execution_count": 15,
   "metadata": {},
   "outputs": [],
   "source": [
    "parse_tree.draw()"
   ]
  },
  {
   "cell_type": "code",
   "execution_count": 11,
   "metadata": {},
   "outputs": [
    {
     "data": {
      "image/png": "[encoded data removed]",
      "text/plain": [
       "Tree('ROOT', [Tree('SBARQ', [Tree('FRAG', [Tree('INTJ', [Tree('UH', ['hello'])]), Tree(',', [',']), Tree('NP', [Tree('JJ', ['Good']), Tree('NN', ['morning'])])]), Tree(',', [',']), Tree('SBARQ', [Tree('WHADVP', [Tree('WRB', ['how'])]), Tree('SQ', [Tree('VBP', ['have']), Tree('NP', [Tree('PRP', ['you'])]), Tree('VP', [Tree('VBN', ['been'])])])]), Tree('.', ['?'])])])"
      ]
     },
     "execution_count": 11,
     "metadata": {},
     "output_type": "execute_result"
    }
   ],
   "source": [
    "parse_tree"
   ]
  },
  {
   "cell_type": "code",
   "execution_count": 12,
   "metadata": {},
   "outputs": [
    {
     "name": "stdout",
     "output_type": "stream",
     "text": [
      "                             ROOT                               \n",
      "                              |                                  \n",
      "                            SBARQ                               \n",
      "        ______________________|_______________________________   \n",
      "       |                      |               SBARQ           | \n",
      "       |                      |      ___________|____         |  \n",
      "      FRAG                    |     |                SQ       | \n",
      "   ____|_________             |     |      __________|___     |  \n",
      " INTJ  |         NP           |   WHADVP  |          NP  VP   | \n",
      "  |    |     ____|_____       |     |     |          |   |    |  \n",
      "  UH   ,    JJ         NN     ,    WRB   VBP        PRP VBN   . \n",
      "  |    |    |          |      |     |     |          |   |    |  \n",
      "hello  ,   Good     morning   ,    how   have       you been  ? \n",
      "\n"
     ]
    }
   ],
   "source": [
    "parse_tree.pretty_print()"
   ]
  },
  {
   "cell_type": "code",
   "execution_count": null,
   "metadata": {},
   "outputs": [],
   "source": []
  }
 ],
 "metadata": {
  "kernelspec": {
   "display_name": "chat",
   "language": "python",
   "name": "chat"
  },
  "language_info": {
   "codemirror_mode": {
    "name": "ipython",
    "version": 3
   },
   "file_extension": ".py",
   "mimetype": "text/x-python",
   "name": "python",
   "nbconvert_exporter": "python",
   "pygments_lexer": "ipython3",
   "version": "3.8.8"
  }
 },
 "nbformat": 4,
 "nbformat_minor": 4
}
