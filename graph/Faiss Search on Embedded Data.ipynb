{
 "cells": [
  {
   "cell_type": "code",
   "execution_count": 1,
   "metadata": {},
   "outputs": [],
   "source": [
    "import warnings\n",
    "warnings.filterwarnings('ignore')\n",
    "\n",
    "import numpy as np\n",
    "from tqdm import tqdm\n",
    "import faiss\n",
    "import csv"
   ]
  },
  {
   "cell_type": "code",
   "execution_count": 2,
   "metadata": {},
   "outputs": [],
   "source": [
    "data = {}\n",
    "with open('/home/maria/Django-Onboarding/sentence-scorer/nci1.csv') as textfile:\n",
    "    reader = csv.reader(textfile)\n",
    "    i = 0\n",
    "    for row in reader:\n",
    "        if i == 0:\n",
    "            i = 1\n",
    "            continue\n",
    "        data[int(row[0])] = np.array([float(i) for i in row[1:]])"
   ]
  },
  {
   "cell_type": "markdown",
   "metadata": {},
   "source": [
    "## Faiss Search"
   ]
  },
  {
   "cell_type": "code",
   "execution_count": 3,
   "metadata": {},
   "outputs": [
    {
     "name": "stderr",
     "output_type": "stream",
     "text": [
      "100%|██████████| 6124/6124 [00:00<00:00, 205005.17it/s]\n"
     ]
    }
   ],
   "source": [
    "# faiss index\n",
    "dimension = 300\n",
    "fastIndex = faiss.IndexFlatL2(dimension)\n",
    "for sent in tqdm(data):\n",
    "    try:\n",
    "        fastIndex.add(np.array([data[sent]]).astype('float32'))\n",
    "    except Exception as e:\n",
    "        print(str(e))\n",
    "        pass\n",
    "# faiss search\n",
    "k = 10 # fetching top 10 results\n",
    "distances, neighbors = fastIndex.search(np.array([data[52].astype(np.float32)]), k)"
   ]
  },
  {
   "cell_type": "code",
   "execution_count": 4,
   "metadata": {},
   "outputs": [
    {
     "name": "stdout",
     "output_type": "stream",
     "text": [
      "[0.0, 0.21368195116519928, 0.24611246585845947, 0.24945779144763947, 0.25902238488197327, 0.259777694940567, 0.26655155420303345, 0.26858648657798767, 0.2747481167316437, 0.2800917625427246]\n"
     ]
    }
   ],
   "source": [
    "# distance\n",
    "print(distances.flatten().tolist())"
   ]
  },
  {
   "cell_type": "code",
   "execution_count": 5,
   "metadata": {},
   "outputs": [
    {
     "name": "stdout",
     "output_type": "stream",
     "text": [
      "[52, 17, 33, 43, 1826, 44, 40, 4549, 1802, 1821]\n"
     ]
    }
   ],
   "source": [
    "# indexes\n",
    "print(neighbors.flatten().tolist())"
   ]
  }
 ],
 "metadata": {
  "kernelspec": {
   "display_name": "chat",
   "language": "python",
   "name": "chat"
  },
  "language_info": {
   "codemirror_mode": {
    "name": "ipython",
    "version": 3
   },
   "file_extension": ".py",
   "mimetype": "text/x-python",
   "name": "python",
   "nbconvert_exporter": "python",
   "pygments_lexer": "ipython3",
   "version": "3.8.8"
  }
 },
 "nbformat": 4,
 "nbformat_minor": 4
}
