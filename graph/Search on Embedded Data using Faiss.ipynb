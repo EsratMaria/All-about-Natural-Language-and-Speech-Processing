{
 "cells": [
  {
   "cell_type": "code",
<<<<<<< HEAD
   "execution_count": 9,
   "metadata": {},
=======
   "execution_count": 1,
   "metadata": {},  
>>>>>>> 31c58b46dae04041a18f89963c0452c166cd16a5
   "outputs": [],
   "source": [
    "import os.path\n",
    "import json\n",
    "import faiss\n",
    "import numpy as np\n",  
    "import networkx as nx\n",
    "import pandas as pd\n",
    "import csv\n",
    "from tqdm import tqdm"
   ]
  },
  {
   "cell_type": "markdown",
   "metadata": {},
   "source": [
    "    the following dataset contains embedding of more than 5K sentences with the dimension of 300.\n",
    "\n",
    "**I am not sharing the dataset here**"
   ]
  },
  {
   "cell_type": "code",
   "execution_count": 10,
   "metadata": {},
   "outputs": [],
   "source": [
    "data = {}\n",
    "with open('/home/maria/Django-Onboarding/sentence-scorer/nci1.csv') as textfile:\n",
    "    reader = csv.reader(textfile)\n",
    "    i = 0\n",
    "    for row in reader:\n",
    "        if i == 0:\n",
    "            i = 1\n",
    "            continue\n",
    "        data[int(row[0])] = np.array([float(i) for i in row[1:]])"
   ]
  },
  {
   "cell_type": "markdown",
   "metadata": {},
   "source": [
    "## Suppose,\n",
    "we have a sentence \"She is my mom\". My goal here is to find similar sentences from the dataset by analysing the embeddings. \n",
    "\n",
    "Generation of embedding of a given sentence is not a part of this code.\n",
    "    the embedded value of a sentence like `she is my mom` looks like below:\n",
    "    \n",
    "    \n",
    "`[ 0.7167604  -0.01461746  0.2137897   0.00806677 -0.1859509   0.5017061\n",
    " -0.4061296  -0.15333575 -0.07553747 -0.3623122   0.1507512  -0.324707\n",
    "  0.17603275  0.7577392   0.01063172  0.4301484   0.08364886 -0.11817913\n",
    "  0.1309282  -0.16096678  0.1250589  -0.31947222  0.26544362  0.383808\n",
    " -0.3072828  -0.09538563  0.37996173  0.19110347  0.05220718 -0.19700202\n",
    "  0.6216506  -0.2646564  -0.44057393  0.24891512 -0.44128788 -0.30116704\n",
    "  0.01190878 -0.08036047 -0.28194425  0.11576663  0.7474284  -0.22448447\n",
    "  0.09414369  0.05622082  0.16587706 -0.3224179  -0.14612725 -0.21593145\n",
    "  0.09056451 -0.10298619 -0.09104307 -0.39641932  0.21673374 -0.09781302\n",
    " -0.20789988 -0.49690107  0.2348635  -0.03347143 -0.24818124 -0.19276582\n",
    "  0.1106087  -0.549508    0.15526086 -0.00860022 -0.02672815 -0.07161194\n",
    "  0.3192695  -0.33069798  0.24869043 -0.0764337   0.0317536   0.17097004\n",
    " -0.22866175  0.16911526 -0.14044     0.64913046 -0.06326678 -0.3557467\n",
    "  0.37715667  0.04884867 -0.22287598 -0.14474076 -0.09483536  0.18881997\n",
    " -0.43296638 -0.17934455 -0.3537879  -0.51941603  0.41558677  0.02313822\n",
    "  0.5477079   0.18164875 -0.2662789  -0.09349691  0.70257264 -0.23506299\n",
    "  0.1305874  -0.37266672 -0.25232726  0.04430877 -0.20022754  0.27712327\n",
    "  0.10056012 -0.2869174   0.2649415   0.02232242 -0.13842703  0.24570638\n",
    " -0.35753685  0.04369521  0.27821738  0.00251789 -0.42562592 -0.24203894\n",
    "  0.3028475   0.18011007 -0.06008312  0.27618554  0.1935399   0.29007897\n",
    "  0.02843968  0.33394623  0.36874244 -0.0099579   0.12381094 -0.15539627\n",
    " -0.14946485  0.08557881  0.37660268 -0.25216594  0.37936285  0.05762855\n",
    " -0.27982104  0.74516064  0.10888123  0.04430947 -0.01555531 -0.33077583\n",
    "  0.03901891 -0.16177982 -0.34367144  0.09280116 -0.03790797 -0.09006068\n",
    "  0.26690242 -0.06117687  0.09191884 -0.6541826   0.08561578 -0.61216307\n",
    " -0.27923593 -0.3290252  -0.19137773  0.05998972 -0.24325423 -0.1853937\n",
    " -0.03885292 -0.25123715  0.08615108  0.52669686  0.08668023 -0.13841239\n",
    " -0.03601033  0.30565575 -0.01374558  0.09340128  0.04974976 -0.31665003\n",
    "  0.17395976 -0.17567617  0.06743532  0.11208749  0.3751919   0.05088596\n",
    " -0.3200104  -0.13163513 -0.35601375  0.23920052  0.40495208  0.22966936\n",
    "  0.220743    0.17386661 -0.21266416  0.26360288 -0.2323209  -0.41130552\n",
    "  0.21528992 -0.0480355  -0.02713388 -0.10725415 -0.18923289  0.44914412\n",
    " -0.36709684  0.46038297 -0.0678664  -0.21660188  0.3095703   0.14813544\n",
    " -0.07101022  0.24121527 -0.07689815 -0.354582    0.04889167 -0.24748264\n",
    "  0.14393924  0.33141604 -0.8874974  -0.14033394  0.41557908 -0.06484076\n",
    " -0.17708357  0.09573426  0.24189542  0.13257074 -0.65838766  0.02120842\n",
    " -0.00601737 -0.2605715  -0.3024841   0.21026397 -0.13989334  0.34441078\n",
    "  0.5114004  -0.25961462  0.06862771  0.21510878 -0.11484697  0.35420194\n",
    " -0.2417661  -0.30537063  0.02198393  0.00657107  0.14199041  0.4959339\n",
    " -0.04993222 -0.0166122   0.10776887  0.1955577   0.27072817 -0.6619478\n",
    " -0.00311626 -0.18814108  0.15687627  0.5553454  -0.21354961  0.02388203\n",
    "  0.04537892 -0.00554839  0.15697347  0.18780638  0.46833068  0.2594\n",
    " -0.04704329  0.04965855 -0.2618046  -0.01389425 -0.2077912   0.17918918\n",
    " -0.04218968  0.15757667  0.33125964 -0.4549558   0.32548678  0.5743053\n",
    " -0.16310972  0.21919176  0.01810298  0.274735   -0.01477191  0.11874571\n",
    " -0.05925145  0.74355197 -0.45865813 -0.22998177  0.18651319 -0.04107885\n",
    "  0.0698486  -0.45713323  0.31237838 -0.40304348 -0.30347404 -0.27656692\n",
    " -0.06665598  0.06051268 -0.11306243  0.13644448 -0.36835307  0.17463784\n",
    " -0.03195798 -0.10493304  0.06150247  0.07733157 -0.04425849 -0.05929085\n",
    " -0.02030333  0.28181675  0.23312251  0.13911767 -0.02008062  0.04252924]`"
   ]
  },
  {
   "cell_type": "markdown",
   "metadata": {},
   "source": [
    "### In this code, I am randomly fetching embedded data of a random sentence from the dataset and finding similar ones with `FAISS`"
   ]
  },
  {
   "cell_type": "markdown",
   "metadata": {},
   "source": [
    "## Faiss Search\n",
    "\n",
    "To find similar sentences I am using `faiss`"
   ]
  },
  {
   "cell_type": "code",
   "execution_count": 12,
   "metadata": {},
   "outputs": [
    {
     "name": "stderr",
     "output_type": "stream",
     "text": [
      "100%|██████████| 6124/6124 [00:00<00:00, 182247.18it/s]\n"
     ]
    }
   ],
   "source": [
    "dimension = 300\n",
    "fastIndex = faiss.IndexFlatL2(dimension)\n",
    "for sent in tqdm(data):\n",
    "    try:\n",
    "        fastIndex.add(np.array([data[sent]]).astype('float32'))\n",
    "    except Exception as e:\n",
    "        print(str(e))\n",
    "        pass"
   ]
  },
  {
   "cell_type": "markdown",
   "metadata": {},
   "source": [
    "### Fetching top 10 results"
   ]
  },
  {
   "cell_type": "code",
   "execution_count": 13,
   "metadata": {},
   "outputs": [],
   "source": [
    "# faiss search\n",
    "k = 10 # fetching top 10 results\n",
    "distances, neighbors = fastIndex.search(np.array([data[52].astype(np.float32)]), k)"
   ]
  },
  {
   "cell_type": "code",
   "execution_count": 14,
   "metadata": {},
   "outputs": [
    {
     "name": "stdout",
     "output_type": "stream",
     "text": [
      "[0.0, 0.21368195116519928, 0.24611246585845947, 0.24945779144763947, 0.25902238488197327, 0.259777694940567, 0.26655155420303345, 0.26858648657798767, 0.2747481167316437, 0.2800917625427246]\n",
      "[52, 17, 33, 43, 1826, 44, 40, 4549, 1802, 1821]\n"
     ]
    }
   ],
   "source": [
<<<<<<< HEAD
    "# distance\n",
    "print(distances.flatten().tolist())\n",
    "# indexes\n",
    "print(neighbors.flatten().tolist())"
=======
    "#indexes fetched using the search\n",
    "neighbors\n"
>>>>>>> 31c58b46dae04041a18f89963c0452c166cd16a5
   ]
  },
  {
   "cell_type": "markdown",
   "metadata": {},
   "source": [
    "`` generation of a sentence embedding will (may) be added later``"
   ]
  }
 ],
 "metadata": {
  "kernelspec": {
   "display_name": "chat",
   "language": "python",
   "name": "chat"
  },
  "language_info": {
   "codemirror_mode": {
    "name": "ipython",
    "version": 3
   },
   "file_extension": ".py",
   "mimetype": "text/x-python",
   "name": "python",
   "nbconvert_exporter": "python",
   "pygments_lexer": "ipython3",
   "version": "3.8.8"
  }
 },
 "nbformat": 4,
 "nbformat_minor": 4
}
