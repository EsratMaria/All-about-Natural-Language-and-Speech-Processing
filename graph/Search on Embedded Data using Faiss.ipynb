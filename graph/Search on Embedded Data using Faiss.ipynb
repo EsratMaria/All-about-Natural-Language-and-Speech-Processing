{
  "cells": [
  {
   "cell_type": "code",
   "execution_count": 9,
   "metadata": {},
   ,
   "execution_count": 1,
   "metadata": {},  

   "outputs": [],
   "source": [
    "import os.path\n",
    "import json\n",
    "import faiss\n",
    "import numpy as np\n",  
    "import networkx as nx\n",
    "import pandas as pd\n",
    "import csv\n",
    "from tqdm import tqdm"
   ]
  },
  {
   "cell_type": "markdown",
   "metadata": {},
   "source": [
    "    the following dataset contains embedding of more than 5K sentences with the dimension of 300.\n",
    "\n",
    "**I am not sharing the dataset here**"
   ]
  },
  {
   "cell_type": "code",
   "execution_count": 10,
   "metadata": {},
   "outputs": [],
   "source": [
    "data = {}\n",
    "with open('/home/maria/Django-Onboarding/sentence-scorer/nci1.csv') as textfile:\n",
    "    reader = csv.reader(textfile)\n",
    "    i = 0\n",
    "    for row in reader:\n",
    "        if i == 0:\n",
    "            i = 1\n",
    "            continue\n",
    "        data[int(row[0])] = np.array([float(i) for i in row[1:]])"
   ]
  },
  {
   "cell_type": "markdown",
   "metadata": {},
   "source": [
    "## Suppose,\n",
    "we have a sentence \"She is my mom\". My goal here is to find similar sentences from the dataset by analysing the embeddings. \n",
    "\n",
    "Generation of embedding of a given sentence is not a part of this code.\n",
    "    the embedded value of a sentence like `she is my mom` looks like below:\n",
    "    \n",
    "    \n",

   ]
  },
  {
   "cell_type": "markdown",
   "metadata": {},
   "source": [
    "### In this code, I am randomly fetching embedded data of a random sentence from the dataset and finding similar ones with `FAISS`"
   ]
  },
  {
   "cell_type": "markdown",
   "metadata": {},
   "source": [
    "## Faiss Search\n",
    "\n",
    "To find similar sentences I am using `faiss`"
   ]
  },
  {
   "cell_type": "code",
   "execution_count": 12,
   "metadata": {},
   "outputs": [
    {
     "name": "stderr",
     "output_type": "stream",
     "text": [
      "100%|██████████| 6124/6124 [00:00<00:00, 182247.18it/s]\n"
     ]
    }
   ],
   "source": [
    "dimension = 300\n",
    "fastIndex = faiss.IndexFlatL2(dimension)\n",
    "for sent in tqdm(data):\n",
    "    try:\n",
    "        fastIndex.add(np.array([data[sent]]).astype('float32'))\n",
    "    except Exception as e:\n",
    "        print(str(e))\n",
    "        pass"
   ]
  },
  {
   "cell_type": "markdown",
   "metadata": {},
   "source": [
    "### Fetching top 10 results"
   ]
  },
  {
   "cell_type": "code",
   "execution_count": 13,
   "metadata": {},
   "outputs": [],
   "source": [
    "# faiss search\n",
    "k = 10 # fetching top 10 results\n",
    "distances, neighbors = fastIndex.search(np.array([data[52].astype(np.float32)]), k)"
   ]
  },
  {
   "cell_type": "code",
   "execution_count": 14,
   "metadata": {},
   "outputs": [
    {
     "name": "stdout",
     "output_type": "stream",
     "text": [
      "[0.0, 0.21368195116519928, 0.24611246585845947, 0.24945779144763947, 0.25902238488197327, 0.259777694940567, 0.26655155420303345, 0.26858648657798767, 0.2747481167316437, 0.2800917625427246]\n",
      "[52, 17, 33, 43, 1826, 44, 40, 4549, 1802, 1821]\n"
     ]
    }
   ],
   "source": [
<<<<<<< HEAD
    "# distance\n",
    "print(distances.flatten().tolist())\n",
    "# indexes\n",
    "print(neighbors.flatten().tolist())"
=======
    "#indexes fetched using the search\n",
    "neighbors\n"
>>>>>>> 31c58b46dae04041a18f89963c0452c166cd16a5
   ]
  },
  {
   "cell_type": "markdown",
   "metadata": {},
   "source": [
    "`` generation of a sentence embedding will (may) be added later``"
   ]
  }
 ],
 "metadata": {
  "kernelspec": {
   "display_name": "chat",
   "language": "python",
   "name": "chat"
  },
  "language_info": {
   "codemirror_mode": {
    "name": "ipython",
    "version": 3
   },
   "file_extension": ".py",
   "mimetype": "text/x-python",
   "name": "python",
   "nbconvert_exporter": "python",
   "pygments_lexer": "ipython3",
   "version": "3.8.8"
  }
 },
 "nbformat": 4,
 "nbformat_minor": 4
}
